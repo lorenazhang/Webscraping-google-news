{
 "cells": [
  {
   "cell_type": "code",
   "execution_count": null,
   "metadata": {},
   "outputs": [],
   "source": [
    "import smtplib\n",
    "from email.message import EmailMessage\n",
    "import pwd_google"
   ]
  },
  {
   "cell_type": "code",
   "execution_count": null,
   "metadata": {},
   "outputs": [],
   "source": [
    "def send_email(login\n",
    "               , password\n",
    "               , subject\n",
    "               , content = None\n",
    "               , attachment = None\n",
    "               , to_list = \"jingyao.zhang@wellsfargo.com\"\n",
    "               , cc_list = \"lorenazhang@gmail.com\"\n",
    "               ):\n",
    "    msg = EmailMessage()\n",
    "    msg.set_content(content)\n",
    "    msg['From'] = login\n",
    "    msg['Subject'] = subject\n",
    "    msg['To'] = to_list\n",
    "    msg['Cc'] = cc_list\n",
    "    #attachment\n",
    "    if attachment is not None:\n",
    "        with open(attachment, 'rb') as content_file:\n",
    "            content = content_file.read()\n",
    "            msg.add_attachment(content, maintype='application', subtype='pickle', filename = attachment)\n",
    "\n",
    "    server = smtplib.SMTP('smtp.gmail.com', 587)\n",
    "    server.set_debuglevel(1)\n",
    "    server.ehlo()\n",
    "    server.starttls()\n",
    "    server.login(login, password)\n",
    "    server.send_message(msg)\n",
    "    server.quit()\n",
    "    print('Email successfully sent!')"
   ]
  },
  {
   "cell_type": "code",
   "execution_count": null,
   "metadata": {},
   "outputs": [],
   "source": [
    "LOGIN    = \"lorenazhang@gmail.com\"\n",
    "PASSWORD = pwd_google.pwd"
   ]
  },
  {
   "cell_type": "code",
   "execution_count": null,
   "metadata": {},
   "outputs": [],
   "source": [
    "send_email(login = LOGIN\n",
    "          , password = pwd_google.pwd\n",
    "          , subject = 'test'\n",
    "          , content = 'test_content'\n",
    "          )"
   ]
  },
  {
   "cell_type": "code",
   "execution_count": null,
   "metadata": {},
   "outputs": [],
   "source": [
    "send_email(login = LOGIN\n",
    "          , password = pwd_google.pwd\n",
    "          , subject = 'test'\n",
    "          , content = 'test_content'\n",
    "          , attachment = 'df_googlenews_20210711.p')"
   ]
  },
  {
   "cell_type": "code",
   "execution_count": null,
   "metadata": {},
   "outputs": [],
   "source": [
    "'''from email.message import EmailMessage\n",
    "msg = EmailMessage()\n",
    "msg.set_content('Google data upload fails, please check!')\n",
    "\n",
    "msg['Subject'] = 'Security Data Script Failed'\n",
    "msg['From'] = \"lorenazhang@gmail.com\"\n",
    "msg['To'] = \"lorenazhang@gmail.com,jingyao.zhang@wellsfargo.com\"\n",
    "#msg['Cc'] = \"jingyao.zhang@wellsfargo.com\"'''"
   ]
  },
  {
   "cell_type": "code",
   "execution_count": null,
   "metadata": {},
   "outputs": [],
   "source": []
  },
  {
   "cell_type": "code",
   "execution_count": null,
   "metadata": {},
   "outputs": [],
   "source": []
  },
  {
   "cell_type": "code",
   "execution_count": null,
   "metadata": {},
   "outputs": [],
   "source": []
  }
 ],
 "metadata": {
  "kernelspec": {
   "display_name": "Python 3",
   "language": "python",
   "name": "python3"
  },
  "language_info": {
   "codemirror_mode": {
    "name": "ipython",
    "version": 3
   },
   "file_extension": ".py",
   "mimetype": "text/x-python",
   "name": "python",
   "nbconvert_exporter": "python",
   "pygments_lexer": "ipython3",
   "version": "3.8.5"
  }
 },
 "nbformat": 4,
 "nbformat_minor": 4
}
